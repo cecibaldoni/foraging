{
 "cells": [
  {
   "cell_type": "code",
   "execution_count": 1,
   "metadata": {},
   "outputs": [],
   "source": [
    "import numpy as np\n",
    "from pathlib import Path\n",
    "import matplotlib.pylab as plt\n",
    "#import seaborn as sns\n",
    "import glob\n",
    "import sys\n",
    "import pandas as pd\n",
    "import math\n",
    "import os\n",
    "import os.path"
   ]
  },
  {
   "cell_type": "code",
   "execution_count": 2,
   "metadata": {},
   "outputs": [],
   "source": [
    "#change \"npz_path\" for the new folder just created\n",
    "#DO NOT USE as npz_path the folder with all the .npz files in the memory bank, they are too many and it could get confusing\n",
    "    #example for windows: \n",
    "        #npz_path = 'C:/Users/cecil/Desktop/New folder/'\n",
    "npz_path = '/home/ceci/cue/data/'\n",
    "video_names = glob.glob(npz_path + '*.npz')\n",
    "nind = 1\n",
    "fr = 30"
   ]
  },
  {
   "cell_type": "code",
   "execution_count": 3,
   "metadata": {},
   "outputs": [
    {
     "name": "stdout",
     "output_type": "stream",
     "text": [
      "69\n"
     ]
    }
   ],
   "source": [
    "print(len(video_names))"
   ]
  },
  {
   "cell_type": "code",
   "execution_count": 11,
   "metadata": {},
   "outputs": [],
   "source": [
    "#start with video_names[0], run all the cells until the last, \n",
    "#then change the number in video_names[*] and run again all the cells until the last\n",
    "#track = video_names[0]\n",
    "#key_list = ['time','frame','X#wcentroid','timestamp','frame', 'ANGLE','Y#wcentroid','BORDER_DISTANCE#pcentroid','SPEED#wcentroid','ACCELERATION#wcentroid']\n",
    "#mapped_data = []\n",
    "\n",
    "#with np.load(track) as data:\n",
    "#    m = {}\n",
    "\n",
    "#    for k in key_list:\n",
    "#        m[k] = data[k]\n",
    "#    mapped_data.append(m)\n",
    "\n",
    "#df = pd.DataFrame(mapped_data[0])"
   ]
  },
  {
   "cell_type": "code",
   "execution_count": null,
   "metadata": {},
   "outputs": [],
   "source": [
    "#WINDOWS\n",
    "#this code define ID, season and trial from video name\n",
    "#change the number in video_names[*]\n",
    "#nome = video_names[0].split('/')\n",
    "#bau = nome[4].split('\\\\')\n",
    "#dat = bau[1].split('_')\n",
    "#ID = dat[0]\n",
    "#trial = dat[1]\n",
    "#season = dat[2]\n",
    "#info = bau[1].split('.')\n",
    "#df['Trial'] = trial\n",
    "#df['ID'] = ID\n",
    "#df['season'] = season"
   ]
  },
  {
   "cell_type": "code",
   "execution_count": 4,
   "metadata": {},
   "outputs": [],
   "source": [
    "key_list = ['time','frame','X#wcentroid','timestamp','frame', 'ANGLE','Y#wcentroid',\\\n",
    "            'BORDER_DISTANCE#pcentroid','SPEED#wcentroid','ACCELERATION#wcentroid']\n",
    "\n",
    "for videofile in video_names[0:]:\n",
    "\n",
    "    with np.load(videofile) as data:\n",
    "        m = {}\n",
    "\n",
    "        for k in key_list:\n",
    "            m[k] = data[k]\n",
    "    df = pd.DataFrame(m)\n",
    "    split_data = os.path.basename(videofile).split('_')\n",
    "    df['ID'] = split_data[0]\n",
    "    df['Trial'] = split_data[1]\n",
    "    df['Season'] = split_data[2]\n",
    "    #this rename the colums\n",
    "    df = df.rename(columns={'X#wcentroid': 'x','Y#wcentroid': 'y','SPEED#wcentroid': 'speed',\\\n",
    "                            'ACCELERATION#wcentroid': 'acceleration'})\n",
    "    #Interpolate nans for x and y\n",
    "    #df['x'] = df['x'].interpolate(method = \"linear\")\n",
    "    #df['y'] = df['y'].interpolate(method = \"linear\")\n",
    "    #df.loc[df['speed']>50] = np.nan\n",
    "    #this reorder the columns\n",
    "    df = df[['ID', 'Trial', 'Season', 'time', 'frame', 'x', 'y', 'ANGLE', 'speed', 'acceleration']]\n",
    "    \n",
    "    if not os.path.isdir(os.path.join(os.path.dirname(videofile),'csv')):\n",
    "        os.mkdir(os.path.join(os.path.dirname(videofile),'csv'))\n",
    "    #save the df to .csv file in the same path where the .npz are\n",
    "    \n",
    "    df.to_csv(os.path.join(os.path.dirname(videofile), 'csv', os.path.basename(videofile.replace('.npz', '.csv'))),\\\n",
    "             index=False)"
   ]
  },
  {
   "cell_type": "code",
   "execution_count": 5,
   "metadata": {},
   "outputs": [
    {
     "data": {
      "text/plain": [
       "0"
      ]
     },
     "execution_count": 5,
     "metadata": {},
     "output_type": "execute_result"
    }
   ],
   "source": [
    "df['x'].isna().sum()"
   ]
  },
  {
   "cell_type": "code",
   "execution_count": null,
   "metadata": {},
   "outputs": [],
   "source": [
    "#Save the df to .csv file in the same path where the .npz are\n",
    "#val = df.to_csv(npz_path + info[0] + '.csv')\n",
    "#val\n"
   ]
  }
 ],
 "metadata": {
  "kernelspec": {
   "display_name": "Python 3 (ipykernel)",
   "language": "python",
   "name": "python3"
  },
  "language_info": {
   "codemirror_mode": {
    "name": "ipython",
    "version": 3
   },
   "file_extension": ".py",
   "mimetype": "text/x-python",
   "name": "python",
   "nbconvert_exporter": "python",
   "pygments_lexer": "ipython3",
   "version": "3.9.13"
  }
 },
 "nbformat": 4,
 "nbformat_minor": 4
}
